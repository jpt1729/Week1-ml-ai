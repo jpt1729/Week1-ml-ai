{
  "cells": [
    {
      "cell_type": "markdown",
      "source": "# Pandas Exercises",
      "metadata": {
        "id": "bSU6eKZTdMXZ",
        "colab_type": "text",
        "cell_id": "eae88efa6d9b4639a89ef3eea0293d0d",
        "deepnote_cell_type": "markdown"
      },
      "block_group": "00000-a1a70b45-4173-41c3-bd0f-1c7334aedbc1"
    },
    {
      "cell_type": "code",
      "source": "import pandas as pd\n\nurl = \"https://raw.githubusercontent.com/MedlyticsUniversal/Data/main/Week1/diabetes.csv\"\nnames = ['preg', 'plas', 'pres', 'skin', 'test', 'mass', 'pedi', 'age', 'class']",
      "metadata": {
        "id": "c5ewTg7vdQFm",
        "colab": {},
        "colab_type": "code",
        "source_hash": null,
        "execution_start": 1720550725242,
        "execution_millis": 78,
        "deepnote_to_be_reexecuted": false,
        "cell_id": "a993a36fdf704905b60b76928e419d26",
        "deepnote_cell_type": "code"
      },
      "outputs": [],
      "outputs_reference": null,
      "execution_count": null,
      "block_group": "00001-c6d0491e-81bf-48bb-9f7d-2474bd25924c",
      "content_dependencies": null
    },
    {
      "cell_type": "markdown",
      "source": "Read in csv above to a Pandas DataFrame named `data`.",
      "metadata": {
        "id": "QOLgFaSKeShR",
        "colab_type": "text",
        "cell_id": "9213d04b13d842f38e210282db196e72",
        "deepnote_cell_type": "markdown"
      },
      "block_group": "00002-042a372d-c00c-4c1f-ac93-787afa44b1e9"
    },
    {
      "cell_type": "code",
      "source": "# YOUR CODE HERE\n\ndata = pd.read_csv(url, names=names)\ndata",
      "metadata": {
        "id": "Okcb8dnXeX2C",
        "colab": {},
        "colab_type": "code",
        "source_hash": null,
        "execution_start": 1720550741134,
        "execution_millis": 170,
        "deepnote_table_state": {
          "sortBy": [],
          "filters": [],
          "pageSize": 10,
          "pageIndex": 1
        },
        "deepnote_table_loading": false,
        "deepnote_to_be_reexecuted": false,
        "cell_id": "a6a0a57d13234e82ad1ed09672a3736a",
        "deepnote_cell_type": "code"
      },
      "outputs": [
        {
          "output_type": "execute_result",
          "execution_count": 6,
          "data": {
            "application/vnd.deepnote.dataframe.v3+json": {
              "column_count": 9,
              "row_count": 768,
              "columns": [
                {
                  "name": "preg",
                  "dtype": "int64",
                  "stats": {
                    "unique_count": 17,
                    "nan_count": 0,
                    "min": "0",
                    "max": "17",
                    "histogram": [
                      {
                        "bin_start": 0,
                        "bin_end": 1.7,
                        "count": 246
                      },
                      {
                        "bin_start": 1.7,
                        "bin_end": 3.4,
                        "count": 178
                      },
                      {
                        "bin_start": 3.4,
                        "bin_end": 5.1,
                        "count": 125
                      },
                      {
                        "bin_start": 5.1,
                        "bin_end": 6.8,
                        "count": 50
                      },
                      {
                        "bin_start": 6.8,
                        "bin_end": 8.5,
                        "count": 83
                      },
                      {
                        "bin_start": 8.5,
                        "bin_end": 10.2,
                        "count": 52
                      },
                      {
                        "bin_start": 10.2,
                        "bin_end": 11.9,
                        "count": 11
                      },
                      {
                        "bin_start": 11.9,
                        "bin_end": 13.6,
                        "count": 19
                      },
                      {
                        "bin_start": 13.6,
                        "bin_end": 15.299999999999999,
                        "count": 3
                      },
                      {
                        "bin_start": 15.299999999999999,
                        "bin_end": 17,
                        "count": 1
                      }
                    ]
                  }
                },
                {
                  "name": "plas",
                  "dtype": "int64",
                  "stats": {
                    "unique_count": 136,
                    "nan_count": 0,
                    "min": "0",
                    "max": "199",
                    "histogram": [
                      {
                        "bin_start": 0,
                        "bin_end": 19.9,
                        "count": 5
                      },
                      {
                        "bin_start": 19.9,
                        "bin_end": 39.8,
                        "count": 0
                      },
                      {
                        "bin_start": 39.8,
                        "bin_end": 59.699999999999996,
                        "count": 4
                      },
                      {
                        "bin_start": 59.699999999999996,
                        "bin_end": 79.6,
                        "count": 32
                      },
                      {
                        "bin_start": 79.6,
                        "bin_end": 99.5,
                        "count": 156
                      },
                      {
                        "bin_start": 99.5,
                        "bin_end": 119.39999999999999,
                        "count": 211
                      },
                      {
                        "bin_start": 119.39999999999999,
                        "bin_end": 139.29999999999998,
                        "count": 163
                      },
                      {
                        "bin_start": 139.29999999999998,
                        "bin_end": 159.2,
                        "count": 95
                      },
                      {
                        "bin_start": 159.2,
                        "bin_end": 179.1,
                        "count": 56
                      },
                      {
                        "bin_start": 179.1,
                        "bin_end": 199,
                        "count": 46
                      }
                    ]
                  }
                },
                {
                  "name": "pres",
                  "dtype": "int64",
                  "stats": {
                    "unique_count": 47,
                    "nan_count": 0,
                    "min": "0",
                    "max": "122",
                    "histogram": [
                      {
                        "bin_start": 0,
                        "bin_end": 12.2,
                        "count": 35
                      },
                      {
                        "bin_start": 12.2,
                        "bin_end": 24.4,
                        "count": 1
                      },
                      {
                        "bin_start": 24.4,
                        "bin_end": 36.599999999999994,
                        "count": 2
                      },
                      {
                        "bin_start": 36.599999999999994,
                        "bin_end": 48.8,
                        "count": 13
                      },
                      {
                        "bin_start": 48.8,
                        "bin_end": 61,
                        "count": 107
                      },
                      {
                        "bin_start": 61,
                        "bin_end": 73.19999999999999,
                        "count": 261
                      },
                      {
                        "bin_start": 73.19999999999999,
                        "bin_end": 85.39999999999999,
                        "count": 243
                      },
                      {
                        "bin_start": 85.39999999999999,
                        "bin_end": 97.6,
                        "count": 87
                      },
                      {
                        "bin_start": 97.6,
                        "bin_end": 109.8,
                        "count": 14
                      },
                      {
                        "bin_start": 109.8,
                        "bin_end": 122,
                        "count": 5
                      }
                    ]
                  }
                },
                {
                  "name": "skin",
                  "dtype": "int64",
                  "stats": {
                    "unique_count": 51,
                    "nan_count": 0,
                    "min": "0",
                    "max": "99",
                    "histogram": [
                      {
                        "bin_start": 0,
                        "bin_end": 9.9,
                        "count": 231
                      },
                      {
                        "bin_start": 9.9,
                        "bin_end": 19.8,
                        "count": 107
                      },
                      {
                        "bin_start": 19.8,
                        "bin_end": 29.700000000000003,
                        "count": 165
                      },
                      {
                        "bin_start": 29.700000000000003,
                        "bin_end": 39.6,
                        "count": 175
                      },
                      {
                        "bin_start": 39.6,
                        "bin_end": 49.5,
                        "count": 78
                      },
                      {
                        "bin_start": 49.5,
                        "bin_end": 59.400000000000006,
                        "count": 9
                      },
                      {
                        "bin_start": 59.400000000000006,
                        "bin_end": 69.3,
                        "count": 2
                      },
                      {
                        "bin_start": 69.3,
                        "bin_end": 79.2,
                        "count": 0
                      },
                      {
                        "bin_start": 79.2,
                        "bin_end": 89.10000000000001,
                        "count": 0
                      },
                      {
                        "bin_start": 89.10000000000001,
                        "bin_end": 99,
                        "count": 1
                      }
                    ]
                  }
                },
                {
                  "name": "test",
                  "dtype": "int64",
                  "stats": {
                    "unique_count": 186,
                    "nan_count": 0,
                    "min": "0",
                    "max": "846",
                    "histogram": [
                      {
                        "bin_start": 0,
                        "bin_end": 84.6,
                        "count": 487
                      },
                      {
                        "bin_start": 84.6,
                        "bin_end": 169.2,
                        "count": 155
                      },
                      {
                        "bin_start": 169.2,
                        "bin_end": 253.79999999999998,
                        "count": 70
                      },
                      {
                        "bin_start": 253.79999999999998,
                        "bin_end": 338.4,
                        "count": 30
                      },
                      {
                        "bin_start": 338.4,
                        "bin_end": 423,
                        "count": 8
                      },
                      {
                        "bin_start": 423,
                        "bin_end": 507.59999999999997,
                        "count": 9
                      },
                      {
                        "bin_start": 507.59999999999997,
                        "bin_end": 592.1999999999999,
                        "count": 5
                      },
                      {
                        "bin_start": 592.1999999999999,
                        "bin_end": 676.8,
                        "count": 1
                      },
                      {
                        "bin_start": 676.8,
                        "bin_end": 761.4,
                        "count": 2
                      },
                      {
                        "bin_start": 761.4,
                        "bin_end": 846,
                        "count": 1
                      }
                    ]
                  }
                },
                {
                  "name": "mass",
                  "dtype": "float64",
                  "stats": {
                    "unique_count": 248,
                    "nan_count": 0,
                    "min": "0.0",
                    "max": "67.1",
                    "histogram": [
                      {
                        "bin_start": 0,
                        "bin_end": 6.709999999999999,
                        "count": 11
                      },
                      {
                        "bin_start": 6.709999999999999,
                        "bin_end": 13.419999999999998,
                        "count": 0
                      },
                      {
                        "bin_start": 13.419999999999998,
                        "bin_end": 20.129999999999995,
                        "count": 15
                      },
                      {
                        "bin_start": 20.129999999999995,
                        "bin_end": 26.839999999999996,
                        "count": 156
                      },
                      {
                        "bin_start": 26.839999999999996,
                        "bin_end": 33.55,
                        "count": 268
                      },
                      {
                        "bin_start": 33.55,
                        "bin_end": 40.25999999999999,
                        "count": 224
                      },
                      {
                        "bin_start": 40.25999999999999,
                        "bin_end": 46.96999999999999,
                        "count": 78
                      },
                      {
                        "bin_start": 46.96999999999999,
                        "bin_end": 53.67999999999999,
                        "count": 12
                      },
                      {
                        "bin_start": 53.67999999999999,
                        "bin_end": 60.38999999999999,
                        "count": 3
                      },
                      {
                        "bin_start": 60.38999999999999,
                        "bin_end": 67.1,
                        "count": 1
                      }
                    ]
                  }
                },
                {
                  "name": "pedi",
                  "dtype": "float64",
                  "stats": {
                    "unique_count": 517,
                    "nan_count": 0,
                    "min": "0.078",
                    "max": "2.42",
                    "histogram": [
                      {
                        "bin_start": 0.078,
                        "bin_end": 0.31220000000000003,
                        "count": 318
                      },
                      {
                        "bin_start": 0.31220000000000003,
                        "bin_end": 0.5464,
                        "count": 206
                      },
                      {
                        "bin_start": 0.5464,
                        "bin_end": 0.7806000000000001,
                        "count": 136
                      },
                      {
                        "bin_start": 0.7806000000000001,
                        "bin_end": 1.0148000000000001,
                        "count": 58
                      },
                      {
                        "bin_start": 1.0148000000000001,
                        "bin_end": 1.249,
                        "count": 25
                      },
                      {
                        "bin_start": 1.249,
                        "bin_end": 1.4832000000000003,
                        "count": 15
                      },
                      {
                        "bin_start": 1.4832000000000003,
                        "bin_end": 1.7174000000000003,
                        "count": 3
                      },
                      {
                        "bin_start": 1.7174000000000003,
                        "bin_end": 1.9516000000000002,
                        "count": 3
                      },
                      {
                        "bin_start": 1.9516000000000002,
                        "bin_end": 2.1858,
                        "count": 1
                      },
                      {
                        "bin_start": 2.1858,
                        "bin_end": 2.42,
                        "count": 3
                      }
                    ]
                  }
                },
                {
                  "name": "age",
                  "dtype": "int64",
                  "stats": {
                    "unique_count": 52,
                    "nan_count": 0,
                    "min": "21",
                    "max": "81",
                    "histogram": [
                      {
                        "bin_start": 21,
                        "bin_end": 27,
                        "count": 300
                      },
                      {
                        "bin_start": 27,
                        "bin_end": 33,
                        "count": 157
                      },
                      {
                        "bin_start": 33,
                        "bin_end": 39,
                        "count": 92
                      },
                      {
                        "bin_start": 39,
                        "bin_end": 45,
                        "count": 86
                      },
                      {
                        "bin_start": 45,
                        "bin_end": 51,
                        "count": 52
                      },
                      {
                        "bin_start": 51,
                        "bin_end": 57,
                        "count": 34
                      },
                      {
                        "bin_start": 57,
                        "bin_end": 63,
                        "count": 26
                      },
                      {
                        "bin_start": 63,
                        "bin_end": 69,
                        "count": 16
                      },
                      {
                        "bin_start": 69,
                        "bin_end": 75,
                        "count": 4
                      },
                      {
                        "bin_start": 75,
                        "bin_end": 81,
                        "count": 1
                      }
                    ]
                  }
                },
                {
                  "name": "class",
                  "dtype": "int64",
                  "stats": {
                    "unique_count": 2,
                    "nan_count": 0,
                    "min": "0",
                    "max": "1",
                    "histogram": [
                      {
                        "bin_start": 0,
                        "bin_end": 0.1,
                        "count": 500
                      },
                      {
                        "bin_start": 0.1,
                        "bin_end": 0.2,
                        "count": 0
                      },
                      {
                        "bin_start": 0.2,
                        "bin_end": 0.30000000000000004,
                        "count": 0
                      },
                      {
                        "bin_start": 0.30000000000000004,
                        "bin_end": 0.4,
                        "count": 0
                      },
                      {
                        "bin_start": 0.4,
                        "bin_end": 0.5,
                        "count": 0
                      },
                      {
                        "bin_start": 0.5,
                        "bin_end": 0.6000000000000001,
                        "count": 0
                      },
                      {
                        "bin_start": 0.6000000000000001,
                        "bin_end": 0.7000000000000001,
                        "count": 0
                      },
                      {
                        "bin_start": 0.7000000000000001,
                        "bin_end": 0.8,
                        "count": 0
                      },
                      {
                        "bin_start": 0.8,
                        "bin_end": 0.9,
                        "count": 0
                      },
                      {
                        "bin_start": 0.9,
                        "bin_end": 1,
                        "count": 268
                      }
                    ]
                  }
                },
                {
                  "name": "_deepnote_index_column",
                  "dtype": "int64"
                }
              ],
              "rows": [
                {
                  "preg": 4,
                  "plas": 110,
                  "pres": 92,
                  "skin": 0,
                  "test": 0,
                  "mass": 37.6,
                  "pedi": 0.191,
                  "age": 30,
                  "class": 0,
                  "_deepnote_index_column": 10
                },
                {
                  "preg": 10,
                  "plas": 168,
                  "pres": 74,
                  "skin": 0,
                  "test": 0,
                  "mass": 38,
                  "pedi": 0.537,
                  "age": 34,
                  "class": 1,
                  "_deepnote_index_column": 11
                },
                {
                  "preg": 10,
                  "plas": 139,
                  "pres": 80,
                  "skin": 0,
                  "test": 0,
                  "mass": 27.1,
                  "pedi": 1.441,
                  "age": 57,
                  "class": 0,
                  "_deepnote_index_column": 12
                },
                {
                  "preg": 1,
                  "plas": 189,
                  "pres": 60,
                  "skin": 23,
                  "test": 846,
                  "mass": 30.1,
                  "pedi": 0.398,
                  "age": 59,
                  "class": 1,
                  "_deepnote_index_column": 13
                },
                {
                  "preg": 5,
                  "plas": 166,
                  "pres": 72,
                  "skin": 19,
                  "test": 175,
                  "mass": 25.8,
                  "pedi": 0.587,
                  "age": 51,
                  "class": 1,
                  "_deepnote_index_column": 14
                },
                {
                  "preg": 7,
                  "plas": 100,
                  "pres": 0,
                  "skin": 0,
                  "test": 0,
                  "mass": 30,
                  "pedi": 0.484,
                  "age": 32,
                  "class": 1,
                  "_deepnote_index_column": 15
                },
                {
                  "preg": 0,
                  "plas": 118,
                  "pres": 84,
                  "skin": 47,
                  "test": 230,
                  "mass": 45.8,
                  "pedi": 0.551,
                  "age": 31,
                  "class": 1,
                  "_deepnote_index_column": 16
                },
                {
                  "preg": 7,
                  "plas": 107,
                  "pres": 74,
                  "skin": 0,
                  "test": 0,
                  "mass": 29.6,
                  "pedi": 0.254,
                  "age": 31,
                  "class": 1,
                  "_deepnote_index_column": 17
                },
                {
                  "preg": 1,
                  "plas": 103,
                  "pres": 30,
                  "skin": 38,
                  "test": 83,
                  "mass": 43.3,
                  "pedi": 0.183,
                  "age": 33,
                  "class": 0,
                  "_deepnote_index_column": 18
                },
                {
                  "preg": 1,
                  "plas": 115,
                  "pres": 70,
                  "skin": 30,
                  "test": 96,
                  "mass": 34.6,
                  "pedi": 0.529,
                  "age": 32,
                  "class": 1,
                  "_deepnote_index_column": 19
                }
              ]
            },
            "text/plain": "     preg  plas  pres  skin  test  mass   pedi  age  class\n0       6   148    72    35     0  33.6  0.627   50      1\n1       1    85    66    29     0  26.6  0.351   31      0\n2       8   183    64     0     0  23.3  0.672   32      1\n3       1    89    66    23    94  28.1  0.167   21      0\n4       0   137    40    35   168  43.1  2.288   33      1\n..    ...   ...   ...   ...   ...   ...    ...  ...    ...\n763    10   101    76    48   180  32.9  0.171   63      0\n764     2   122    70    27     0  36.8  0.340   27      0\n765     5   121    72    23   112  26.2  0.245   30      0\n766     1   126    60     0     0  30.1  0.349   47      1\n767     1    93    70    31     0  30.4  0.315   23      0\n\n[768 rows x 9 columns]",
            "text/html": "<div>\n<style scoped>\n    .dataframe tbody tr th:only-of-type {\n        vertical-align: middle;\n    }\n\n    .dataframe tbody tr th {\n        vertical-align: top;\n    }\n\n    .dataframe thead th {\n        text-align: right;\n    }\n</style>\n<table border=\"1\" class=\"dataframe\">\n  <thead>\n    <tr style=\"text-align: right;\">\n      <th></th>\n      <th>preg</th>\n      <th>plas</th>\n      <th>pres</th>\n      <th>skin</th>\n      <th>test</th>\n      <th>mass</th>\n      <th>pedi</th>\n      <th>age</th>\n      <th>class</th>\n    </tr>\n  </thead>\n  <tbody>\n    <tr>\n      <th>0</th>\n      <td>6</td>\n      <td>148</td>\n      <td>72</td>\n      <td>35</td>\n      <td>0</td>\n      <td>33.6</td>\n      <td>0.627</td>\n      <td>50</td>\n      <td>1</td>\n    </tr>\n    <tr>\n      <th>1</th>\n      <td>1</td>\n      <td>85</td>\n      <td>66</td>\n      <td>29</td>\n      <td>0</td>\n      <td>26.6</td>\n      <td>0.351</td>\n      <td>31</td>\n      <td>0</td>\n    </tr>\n    <tr>\n      <th>2</th>\n      <td>8</td>\n      <td>183</td>\n      <td>64</td>\n      <td>0</td>\n      <td>0</td>\n      <td>23.3</td>\n      <td>0.672</td>\n      <td>32</td>\n      <td>1</td>\n    </tr>\n    <tr>\n      <th>3</th>\n      <td>1</td>\n      <td>89</td>\n      <td>66</td>\n      <td>23</td>\n      <td>94</td>\n      <td>28.1</td>\n      <td>0.167</td>\n      <td>21</td>\n      <td>0</td>\n    </tr>\n    <tr>\n      <th>4</th>\n      <td>0</td>\n      <td>137</td>\n      <td>40</td>\n      <td>35</td>\n      <td>168</td>\n      <td>43.1</td>\n      <td>2.288</td>\n      <td>33</td>\n      <td>1</td>\n    </tr>\n    <tr>\n      <th>...</th>\n      <td>...</td>\n      <td>...</td>\n      <td>...</td>\n      <td>...</td>\n      <td>...</td>\n      <td>...</td>\n      <td>...</td>\n      <td>...</td>\n      <td>...</td>\n    </tr>\n    <tr>\n      <th>763</th>\n      <td>10</td>\n      <td>101</td>\n      <td>76</td>\n      <td>48</td>\n      <td>180</td>\n      <td>32.9</td>\n      <td>0.171</td>\n      <td>63</td>\n      <td>0</td>\n    </tr>\n    <tr>\n      <th>764</th>\n      <td>2</td>\n      <td>122</td>\n      <td>70</td>\n      <td>27</td>\n      <td>0</td>\n      <td>36.8</td>\n      <td>0.340</td>\n      <td>27</td>\n      <td>0</td>\n    </tr>\n    <tr>\n      <th>765</th>\n      <td>5</td>\n      <td>121</td>\n      <td>72</td>\n      <td>23</td>\n      <td>112</td>\n      <td>26.2</td>\n      <td>0.245</td>\n      <td>30</td>\n      <td>0</td>\n    </tr>\n    <tr>\n      <th>766</th>\n      <td>1</td>\n      <td>126</td>\n      <td>60</td>\n      <td>0</td>\n      <td>0</td>\n      <td>30.1</td>\n      <td>0.349</td>\n      <td>47</td>\n      <td>1</td>\n    </tr>\n    <tr>\n      <th>767</th>\n      <td>1</td>\n      <td>93</td>\n      <td>70</td>\n      <td>31</td>\n      <td>0</td>\n      <td>30.4</td>\n      <td>0.315</td>\n      <td>23</td>\n      <td>0</td>\n    </tr>\n  </tbody>\n</table>\n<p>768 rows × 9 columns</p>\n</div>"
          },
          "metadata": {}
        }
      ],
      "outputs_reference": null,
      "execution_count": null,
      "block_group": "00003-3853efa3-180b-4c70-8be9-3a18524779a8",
      "content_dependencies": null
    },
    {
      "cell_type": "markdown",
      "source": "Print out the age and class of the 100th patient.",
      "metadata": {
        "id": "d4DyOsuoewE2",
        "colab_type": "text",
        "cell_id": "2eed760e93b04e69b13b5648696bcc56",
        "deepnote_cell_type": "markdown"
      },
      "block_group": "00004-7ec9296d-24bf-4019-8f5a-c844c6b8cb1a"
    },
    {
      "cell_type": "code",
      "source": "# YOUR CODE HERE\n\nprint(data.age[100])\nprint(data.class[100])",
      "metadata": {
        "id": "xZqBsg39eY8_",
        "colab": {},
        "colab_type": "code",
        "source_hash": null,
        "execution_start": 1720550760339,
        "execution_millis": 133,
        "deepnote_to_be_reexecuted": false,
        "cell_id": "3be79023097b4fbc80ebed6b8c7405d4",
        "deepnote_cell_type": "code"
      },
      "outputs": [
        {
          "name": "stdout",
          "text": "33\n",
          "output_type": "stream"
        },
        {
          "output_type": "error",
          "ename": "KernelInterrupted",
          "evalue": "Execution interrupted by the Jupyter kernel.",
          "traceback": [
            "\u001b[0;31m---------------------------------------------------------------------------\u001b[0m",
            "\u001b[0;31mKernelInterrupted\u001b[0m: Execution interrupted by the Jupyter kernel."
          ]
        }
      ],
      "outputs_reference": null,
      "execution_count": null,
      "block_group": "00005-0056ddb4-3287-41f8-834d-5ece93cf6909",
      "content_dependencies": null
    },
    {
      "cell_type": "markdown",
      "source": "Write code to figure out how many people are classified as not having diabetes (class = 0).",
      "metadata": {
        "id": "j8L2EM-5iOWc",
        "colab_type": "text",
        "cell_id": "9c73ff686a8942ec87fafce9864cd048",
        "deepnote_cell_type": "markdown"
      },
      "block_group": "00006-82daaf2f-3e31-463a-9b7a-53799ab84fef"
    },
    {
      "cell_type": "code",
      "source": "# YOUR CODE HERE\n\nlen(data[data['class'] == 0])",
      "metadata": {
        "id": "vohzS51WiWvD",
        "colab": {},
        "colab_type": "code",
        "cell_id": "eb82dbe862424b27bf82afbc89e81c67",
        "deepnote_cell_type": "code"
      },
      "outputs": [],
      "outputs_reference": null,
      "execution_count": null,
      "block_group": "00007-2d900e3b-23a6-403c-9bde-7e09d0510fcd",
      "content_dependencies": null
    },
    {
      "cell_type": "markdown",
      "source": "Write code to figure out how many people are classified as having diabetes (class = 1).",
      "metadata": {
        "id": "ieGRz4iiiX4E",
        "colab_type": "text",
        "cell_id": "5f1c29c3753c4c828776b16aa94636ac",
        "deepnote_cell_type": "markdown"
      },
      "block_group": "00008-389ce810-0027-4af4-b4bf-a5bdc38c1573"
    },
    {
      "cell_type": "code",
      "source": "# YOUR CODE HERE\n\n",
      "metadata": {
        "id": "-jq2O-vriXRT",
        "colab": {},
        "colab_type": "code",
        "cell_id": "d91566ec64b94a349c4458876d53e12f",
        "deepnote_cell_type": "code"
      },
      "outputs": [],
      "outputs_reference": null,
      "execution_count": null,
      "block_group": "00009-5eb55bcc-0b10-4a59-a3de-fad689a23fe1",
      "content_dependencies": null
    },
    {
      "cell_type": "markdown",
      "source": "What percent of patients have diabetes in this study?",
      "metadata": {
        "id": "oeFT7T9OnuSd",
        "colab_type": "text",
        "cell_id": "9106c0d8d08349f48d3e828189e9f337",
        "deepnote_cell_type": "markdown"
      },
      "block_group": "00010-31b5f7c6-ea56-457b-ae9c-72ab86c5c567"
    },
    {
      "cell_type": "code",
      "source": "# YOUR CODE HERE",
      "metadata": {
        "id": "zGGHptFYnwq0",
        "colab": {},
        "colab_type": "code",
        "cell_id": "9965abbb28b54202aec807bfcc2d5a1a",
        "deepnote_cell_type": "code"
      },
      "outputs": [],
      "outputs_reference": null,
      "execution_count": null,
      "block_group": "00011-a33c8893-4cbc-42b5-898d-e3115c13e329",
      "content_dependencies": null
    },
    {
      "cell_type": "markdown",
      "source": "Print out the `\"pres\"` and `\"class\"` (no other columns) for the first 5 people.",
      "metadata": {
        "id": "nbrjnRPafs0p",
        "colab_type": "text",
        "cell_id": "bfa59845fd69429db17a4bee923a6782",
        "deepnote_cell_type": "markdown"
      },
      "block_group": "00012-5080ee0d-b515-4ca1-954d-63144b849480"
    },
    {
      "cell_type": "code",
      "source": "# YOUR CODE HERE",
      "metadata": {
        "id": "GiNCJ19KfHJQ",
        "colab": {},
        "colab_type": "code",
        "cell_id": "a5a63c0e3bc44fb1a02f9fdf31f404cc",
        "deepnote_cell_type": "code"
      },
      "outputs": [],
      "outputs_reference": null,
      "execution_count": null,
      "block_group": "00013-52905732-b305-424f-98c1-182e4ababc0c",
      "content_dependencies": null
    },
    {
      "cell_type": "markdown",
      "source": "Run the cell below. It will print out the correlation among the columns.",
      "metadata": {
        "id": "O-CcsoqlhxUn",
        "colab_type": "text",
        "cell_id": "f1e881f74c424f2c9ac2b14dd42f2bc7",
        "deepnote_cell_type": "markdown"
      },
      "block_group": "00014-f3aad72a-9f72-4fb7-9d82-8d10b502d48a"
    },
    {
      "cell_type": "code",
      "source": "data.corr()",
      "metadata": {
        "id": "pXpVFt6MffQt",
        "colab": {},
        "colab_type": "code",
        "cell_id": "7f5c8cc6cda244dc80b7a7cf445fa0ed",
        "deepnote_cell_type": "code"
      },
      "outputs": [],
      "outputs_reference": null,
      "execution_count": null,
      "block_group": "00015-2172a85f-0f52-484b-a29e-5c3e48658917",
      "content_dependencies": null
    },
    {
      "cell_type": "markdown",
      "source": "What column has the highest correlation with class? Find the mean() value of that column.",
      "metadata": {
        "id": "P_7xRF11h4Uf",
        "colab_type": "text",
        "cell_id": "b613bda7351843449b52c82f91d00466",
        "deepnote_cell_type": "markdown"
      },
      "block_group": "00016-c6dc3dd2-3401-45f6-82f1-9b8d3db94077"
    },
    {
      "cell_type": "code",
      "source": "# YOUR CODE HERE",
      "metadata": {
        "id": "clb2Gh8Mn9d4",
        "colab": {},
        "colab_type": "code",
        "cell_id": "23b36a0d667b4528897fb78747faa7c8",
        "deepnote_cell_type": "code"
      },
      "outputs": [],
      "outputs_reference": null,
      "execution_count": null,
      "block_group": "00017-b1dcf134-97de-42fa-ac10-96fe97db8e2c",
      "content_dependencies": null
    },
    {
      "cell_type": "markdown",
      "source": "Create a new DataFrame with only people that are above the mean found in the above cell.",
      "metadata": {
        "id": "64yWhAARoWw-",
        "colab_type": "text",
        "cell_id": "8147e99b9c0a4b8085c9c3a09846aaee",
        "deepnote_cell_type": "markdown"
      },
      "block_group": "00018-fd63fcb2-c10a-4a26-b428-e30348fe833a"
    },
    {
      "cell_type": "code",
      "source": "# YOUR CODE HERE",
      "metadata": {
        "id": "HRLjs3agkdPY",
        "colab": {},
        "colab_type": "code",
        "cell_id": "f9b6d3f7422f43f8bc7c2949376615d7",
        "deepnote_cell_type": "code"
      },
      "outputs": [],
      "outputs_reference": null,
      "execution_count": null,
      "block_group": "00019-8b938a90-7bd5-4ba2-92f1-4df4ffc190e0",
      "content_dependencies": null
    },
    {
      "cell_type": "markdown",
      "source": "Create a new DataFrame that only includes people who are above the average value for each column in the dataset. In other words, find the average value for each column, then find which users have values above all of these average column values.",
      "metadata": {
        "id": "RxGIQp0JrUnq",
        "colab_type": "text",
        "cell_id": "99af93d1f5b9497dab5700684876cd0a",
        "deepnote_cell_type": "markdown"
      },
      "block_group": "00020-d5d0c3ea-9655-4aa2-97dd-4bf3a09e357f"
    },
    {
      "cell_type": "code",
      "source": "# YOUR CODE HERE",
      "metadata": {
        "id": "Ylf4p6NNrfME",
        "colab": {},
        "colab_type": "code",
        "cell_id": "ed81f65a7a2a4520aad9fadcb6c3da7e",
        "deepnote_cell_type": "code"
      },
      "outputs": [],
      "outputs_reference": null,
      "execution_count": null,
      "block_group": "00021-064e8e41-d624-434c-a65a-392e463c840e",
      "content_dependencies": null
    },
    {
      "cell_type": "markdown",
      "source": "*Note: The next 3 problems were not explicitly shown in our tutorial—being able to effectively Google and look through documentation is a very important coding tool!* ¯\\\\\\_(ツ)_/¯",
      "metadata": {
        "id": "Cy_6ce7_8qAB",
        "colab_type": "text",
        "cell_id": "6216c4e9e0e8472f90bc9b8023605b51",
        "deepnote_cell_type": "markdown"
      },
      "block_group": "00022-a1b28b03-6953-469c-a45d-80d21b3d36f6"
    },
    {
      "cell_type": "markdown",
      "source": "Ignoring the index (resetting the index to 0) and using the DataFrame from the cell above, sort the values based on `\"skin\"`, `\"test\"`, and `\"pedi\"` values in ascending order. Please write this in one line.",
      "metadata": {
        "id": "24pCgP2xbCwZ",
        "colab_type": "text",
        "cell_id": "91ef0a5715b24fcda1220921ead53fb0",
        "deepnote_cell_type": "markdown"
      },
      "block_group": "00023-818ed759-16d8-4469-8fcb-19c412faa4c9"
    },
    {
      "cell_type": "code",
      "source": "# YOUR CODE HERE",
      "metadata": {
        "id": "wXZysbVwa7i5",
        "colab": {},
        "colab_type": "code",
        "cell_id": "7a9dcde5343b4a71a89ae7a6b28345e2",
        "deepnote_cell_type": "code"
      },
      "outputs": [],
      "outputs_reference": null,
      "execution_count": null,
      "block_group": "00024-1c8fa3ef-1628-44ef-bef7-554c548fea45",
      "content_dependencies": null
    },
    {
      "cell_type": "markdown",
      "source": "Now, let's find the 4 largest values for `\"age\"`.",
      "metadata": {
        "id": "BIJkXsK4ch-u",
        "colab_type": "text",
        "cell_id": "0988fa2897bf4bbb85cec1b75c6caa85",
        "deepnote_cell_type": "markdown"
      },
      "block_group": "00025-31c03cc1-a702-4c90-89f0-dab8fb9b51bf"
    },
    {
      "cell_type": "code",
      "source": "# YOUR CODE HERE",
      "metadata": {
        "id": "kSl28jLLdAF9",
        "colab": {},
        "colab_type": "code",
        "cell_id": "640e563267a34c7bbea098bcf6e73242",
        "deepnote_cell_type": "code"
      },
      "outputs": [],
      "outputs_reference": null,
      "execution_count": null,
      "block_group": "00026-9728e4ca-d0d3-4d8c-a818-707a90e9e5d3",
      "content_dependencies": null
    },
    {
      "cell_type": "markdown",
      "source": "Find the smallest 4 values for `\"pedi\"` and `\"plas\"` in reverse order (smallest to largest).",
      "metadata": {
        "id": "fJRwe8UfqvNG",
        "colab_type": "text",
        "cell_id": "eb40e33605ca42359fb61ac7aebbce52",
        "deepnote_cell_type": "markdown"
      },
      "block_group": "00027-a5e12cb1-a313-47bf-9640-256181c460ad"
    },
    {
      "cell_type": "code",
      "source": "# YOUR CODE HERE",
      "metadata": {
        "id": "icQcbPg1quNI",
        "colab": {},
        "colab_type": "code",
        "cell_id": "fc9cf5bc59674b57bd15553ac7880836",
        "deepnote_cell_type": "code"
      },
      "outputs": [],
      "outputs_reference": null,
      "execution_count": null,
      "block_group": "00028-2add4c0a-65b7-424e-a4d9-756817979e60",
      "content_dependencies": null
    },
    {
      "cell_type": "markdown",
      "source": "<a style='text-decoration:none;line-height:16px;display:flex;color:#5B5B62;padding:10px;justify-content:end;' href='https://deepnote.com?utm_source=created-in-deepnote-cell&projectId=e0da1011-05b0-4561-9255-03e3a806dd32' target=\"_blank\">\n<img alt='Created in deepnote.com' style='display:inline;max-height:16px;margin:0px;margin-right:7.5px;' src='data:image/svg+xml;base64,PD94bWwgdmVyc2lvbj0iMS4wIiBlbmNvZGluZz0iVVRGLTgiPz4KPHN2ZyB3aWR0aD0iODBweCIgaGVpZ2h0PSI4MHB4IiB2aWV3Qm94PSIwIDAgODAgODAiIHZlcnNpb249IjEuMSIgeG1sbnM9Imh0dHA6Ly93d3cudzMub3JnLzIwMDAvc3ZnIiB4bWxuczp4bGluaz0iaHR0cDovL3d3dy53My5vcmcvMTk5OS94bGluayI+CiAgICA8IS0tIEdlbmVyYXRvcjogU2tldGNoIDU0LjEgKDc2NDkwKSAtIGh0dHBzOi8vc2tldGNoYXBwLmNvbSAtLT4KICAgIDx0aXRsZT5Hcm91cCAzPC90aXRsZT4KICAgIDxkZXNjPkNyZWF0ZWQgd2l0aCBTa2V0Y2guPC9kZXNjPgogICAgPGcgaWQ9IkxhbmRpbmciIHN0cm9rZT0ibm9uZSIgc3Ryb2tlLXdpZHRoPSIxIiBmaWxsPSJub25lIiBmaWxsLXJ1bGU9ImV2ZW5vZGQiPgogICAgICAgIDxnIGlkPSJBcnRib2FyZCIgdHJhbnNmb3JtPSJ0cmFuc2xhdGUoLTEyMzUuMDAwMDAwLCAtNzkuMDAwMDAwKSI+CiAgICAgICAgICAgIDxnIGlkPSJHcm91cC0zIiB0cmFuc2Zvcm09InRyYW5zbGF0ZSgxMjM1LjAwMDAwMCwgNzkuMDAwMDAwKSI+CiAgICAgICAgICAgICAgICA8cG9seWdvbiBpZD0iUGF0aC0yMCIgZmlsbD0iIzAyNjVCNCIgcG9pbnRzPSIyLjM3NjIzNzYyIDgwIDM4LjA0NzY2NjcgODAgNTcuODIxNzgyMiA3My44MDU3NTkyIDU3LjgyMTc4MjIgMzIuNzU5MjczOSAzOS4xNDAyMjc4IDMxLjY4MzE2ODMiPjwvcG9seWdvbj4KICAgICAgICAgICAgICAgIDxwYXRoIGQ9Ik0zNS4wMDc3MTgsODAgQzQyLjkwNjIwMDcsNzYuNDU0OTM1OCA0Ny41NjQ5MTY3LDcxLjU0MjI2NzEgNDguOTgzODY2LDY1LjI2MTk5MzkgQzUxLjExMjI4OTksNTUuODQxNTg0MiA0MS42NzcxNzk1LDQ5LjIxMjIyODQgMjUuNjIzOTg0Niw0OS4yMTIyMjg0IEMyNS40ODQ5Mjg5LDQ5LjEyNjg0NDggMjkuODI2MTI5Niw0My4yODM4MjQ4IDM4LjY0NzU4NjksMzEuNjgzMTY4MyBMNzIuODcxMjg3MSwzMi41NTQ0MjUgTDY1LjI4MDk3Myw2Ny42NzYzNDIxIEw1MS4xMTIyODk5LDc3LjM3NjE0NCBMMzUuMDA3NzE4LDgwIFoiIGlkPSJQYXRoLTIyIiBmaWxsPSIjMDAyODY4Ij48L3BhdGg+CiAgICAgICAgICAgICAgICA8cGF0aCBkPSJNMCwzNy43MzA0NDA1IEwyNy4xMTQ1MzcsMC4yNTcxMTE0MzYgQzYyLjM3MTUxMjMsLTEuOTkwNzE3MDEgODAsMTAuNTAwMzkyNyA4MCwzNy43MzA0NDA1IEM4MCw2NC45NjA0ODgyIDY0Ljc3NjUwMzgsNzkuMDUwMzQxNCAzNC4zMjk1MTEzLDgwIEM0Ny4wNTUzNDg5LDc3LjU2NzA4MDggNTMuNDE4MjY3Nyw3MC4zMTM2MTAzIDUzLjQxODI2NzcsNTguMjM5NTg4NSBDNTMuNDE4MjY3Nyw0MC4xMjg1NTU3IDM2LjMwMzk1NDQsMzcuNzMwNDQwNSAyNS4yMjc0MTcsMzcuNzMwNDQwNSBDMTcuODQzMDU4NiwzNy43MzA0NDA1IDkuNDMzOTE5NjYsMzcuNzMwNDQwNSAwLDM3LjczMDQ0MDUgWiIgaWQ9IlBhdGgtMTkiIGZpbGw9IiMzNzkzRUYiPjwvcGF0aD4KICAgICAgICAgICAgPC9nPgogICAgICAgIDwvZz4KICAgIDwvZz4KPC9zdmc+' > </img>\nCreated in <span style='font-weight:600;margin-left:4px;'>Deepnote</span></a>",
      "metadata": {
        "created_in_deepnote_cell": true,
        "deepnote_cell_type": "markdown"
      }
    }
  ],
  "nbformat": 4,
  "nbformat_minor": 0,
  "metadata": {
    "deepnote_notebook_id": "6b281e3ca3584f64abf45af6c94a0cc5",
    "deepnote_execution_queue": []
  }
}